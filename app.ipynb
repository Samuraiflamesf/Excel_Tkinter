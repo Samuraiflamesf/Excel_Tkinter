{
 "cells": [
  {
   "cell_type": "code",
   "execution_count": 27,
   "id": "e257c90d",
   "metadata": {},
   "outputs": [],
   "source": [
    "import pandas as pd\n",
    "from openpyxl import Workbook\n",
    "import xlrd\n",
    "import os"
   ]
  },
  {
   "cell_type": "code",
   "execution_count": 61,
   "id": "5dd1651f",
   "metadata": {},
   "outputs": [],
   "source": [
    "planilha1 = pd.read_excel('1.xlsx',skiprows=1)"
   ]
  },
  {
   "cell_type": "code",
   "execution_count": 62,
   "id": "22a659c8",
   "metadata": {},
   "outputs": [],
   "source": [
    "planilha1 = df1[['Guia','Destino']]"
   ]
  },
  {
   "cell_type": "code",
   "execution_count": 63,
   "id": "d75dcea0",
   "metadata": {},
   "outputs": [
    {
     "name": "stderr",
     "output_type": "stream",
     "text": [
      "C:\\Users\\bernardo.silva\\AppData\\Local\\Temp\\ipykernel_12092\\3686488668.py:1: FutureWarning: The default value of regex will change from True to False in a future version. In addition, single character regular expressions will *not* be treated as literal strings when regex=True.\n",
      "  planilha1['Guia'] = df1['Guia'].str.replace('.','').str.replace('/','')\n",
      "C:\\Users\\bernardo.silva\\AppData\\Local\\Temp\\ipykernel_12092\\3686488668.py:1: SettingWithCopyWarning: \n",
      "A value is trying to be set on a copy of a slice from a DataFrame.\n",
      "Try using .loc[row_indexer,col_indexer] = value instead\n",
      "\n",
      "See the caveats in the documentation: https://pandas.pydata.org/pandas-docs/stable/user_guide/indexing.html#returning-a-view-versus-a-copy\n",
      "  planilha1['Guia'] = df1['Guia'].str.replace('.','').str.replace('/','')\n"
     ]
    }
   ],
   "source": [
    "planilha1['Guia'] = df1['Guia'].str.replace('.','').str.replace('/','')"
   ]
  },
  {
   "cell_type": "code",
   "execution_count": 81,
   "id": "07e9b885",
   "metadata": {},
   "outputs": [],
   "source": [
    "planilha2 = pd.read_excel('2.xlsx',skiprows=0)"
   ]
  },
  {
   "cell_type": "code",
   "execution_count": 87,
   "id": "6cd3e575",
   "metadata": {},
   "outputs": [],
   "source": [
    "planilha2['num_documento'] = planilha2['num_documento'].str.replace('Nº ','')"
   ]
  },
  {
   "cell_type": "code",
   "execution_count": 93,
   "id": "588f4697",
   "metadata": {},
   "outputs": [],
   "source": [
    "planilha2 = planilha2.rename(columns={'num_documento': 'Guia'})"
   ]
  },
  {
   "cell_type": "code",
   "execution_count": 94,
   "id": "83197bb7",
   "metadata": {},
   "outputs": [],
   "source": [
    "planilha2[\"Guia\"] = planilha2[\"Guia\"].str.strip()"
   ]
  },
  {
   "cell_type": "code",
   "execution_count": 96,
   "id": "f3a87d33",
   "metadata": {},
   "outputs": [],
   "source": [
    "app_excel = pd.merge(planilha1,planilha2 , on='Guia')"
   ]
  },
  {
   "cell_type": "code",
   "execution_count": null,
   "id": "f7267c57",
   "metadata": {},
   "outputs": [],
   "source": []
  },
  {
   "cell_type": "code",
   "execution_count": null,
   "id": "8e6b5833",
   "metadata": {},
   "outputs": [],
   "source": []
  },
  {
   "cell_type": "code",
   "execution_count": null,
   "id": "b879b4d6",
   "metadata": {},
   "outputs": [],
   "source": []
  },
  {
   "cell_type": "code",
   "execution_count": null,
   "id": "ff82d760",
   "metadata": {},
   "outputs": [],
   "source": []
  },
  {
   "cell_type": "code",
   "execution_count": 92,
   "id": "54dfa7c0",
   "metadata": {},
   "outputs": [],
   "source": [
    "#Salavando\n",
    "planilha2.to_excel(\"Final.xlsx\", index=False)"
   ]
  }
 ],
 "metadata": {
  "kernelspec": {
   "display_name": "Python 3 (ipykernel)",
   "language": "python",
   "name": "python3"
  },
  "language_info": {
   "codemirror_mode": {
    "name": "ipython",
    "version": 3
   },
   "file_extension": ".py",
   "mimetype": "text/x-python",
   "name": "python",
   "nbconvert_exporter": "python",
   "pygments_lexer": "ipython3",
   "version": "3.10.9"
  }
 },
 "nbformat": 4,
 "nbformat_minor": 5
}
